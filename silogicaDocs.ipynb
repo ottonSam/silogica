{
  "nbformat": 4,
  "nbformat_minor": 0,
  "metadata": {
    "colab": {
      "provenance": [],
      "authorship_tag": "ABX9TyMfRNSSyIL0N4EKl+dpjiUY",
      "include_colab_link": true
    },
    "kernelspec": {
      "name": "python3",
      "display_name": "Python 3"
    },
    "language_info": {
      "name": "python"
    }
  },
  "cells": [
    {
      "cell_type": "markdown",
      "metadata": {
        "id": "view-in-github",
        "colab_type": "text"
      },
      "source": [
        "<a href=\"https://colab.research.google.com/github/ottonSam/silogica/blob/master/silogicaDocs.ipynb\" target=\"_parent\"><img src=\"https://colab.research.google.com/assets/colab-badge.svg\" alt=\"Open In Colab\"/></a>"
      ]
    },
    {
      "cell_type": "markdown",
      "source": [
        "# Utils\n",
        "Algumas funções foram pensadas de forma a serem reutilizadas em trechos seguintes de codigo."
      ],
      "metadata": {
        "id": "0GgKZWfNkg9k"
      }
    },
    {
      "cell_type": "markdown",
      "source": [
        "## Verificador 1, proposição com dois termos iguais"
      ],
      "metadata": {
        "id": "zbVPI5yUo9Tb"
      }
    },
    {
      "cell_type": "code",
      "execution_count": 6,
      "metadata": {
        "id": "SUcwCnVWcXkr"
      },
      "outputs": [],
      "source": [
        "def is_dif_terms(term1, term2):\n",
        "  return (True if term1 != term2 else False)"
      ]
    },
    {
      "cell_type": "code",
      "source": [
        "def is_dif_prop(prop):\n",
        "  return (True if is_dif_terms(prop[1], prop[2]) else False)"
      ],
      "metadata": {
        "id": "K_AGTxe5lhmJ"
      },
      "execution_count": 5,
      "outputs": []
    },
    {
      "cell_type": "code",
      "source": [
        "def err_silogismo_proposicao_igual(silogism):\n",
        "  for prop in silogism:\n",
        "    if (not is_dif_prop(prop)):\n",
        "      return True\n",
        "  return False"
      ],
      "metadata": {
        "id": "dJvx3H-AmE_x"
      },
      "execution_count": 4,
      "outputs": []
    },
    {
      "cell_type": "markdown",
      "source": [
        "## Verificador 2, Quantidade de termos"
      ],
      "metadata": {
        "id": "lhEBBbO_qSsb"
      }
    },
    {
      "cell_type": "code",
      "source": [
        "def err_silogism_quant_prop(silogism):\n",
        "  return (True if len(silogism) == 3 else False)"
      ],
      "metadata": {
        "id": "6qa1OoumqrJj"
      },
      "execution_count": 7,
      "outputs": []
    },
    {
      "cell_type": "markdown",
      "source": [
        "## Verificador 3, Termo medio na conclusão"
      ],
      "metadata": {
        "id": "Eg9_9YourvTr"
      }
    },
    {
      "cell_type": "code",
      "source": [
        "prop1 = [1, 1, 1]\n",
        "prop2 = [1, 1, 1]\n",
        "prop3 = [1, 0, 3]\n",
        "silogism = [prop1, prop2, prop3]\n",
        "err_silogism_quant_prop(silogism)"
      ],
      "metadata": {
        "colab": {
          "base_uri": "https://localhost:8080/"
        },
        "id": "NOZonLe4oXNR",
        "outputId": "ad950ad9-aafe-47d8-d600-2c598b0802d9"
      },
      "execution_count": 12,
      "outputs": [
        {
          "output_type": "execute_result",
          "data": {
            "text/plain": [
              "True"
            ]
          },
          "metadata": {},
          "execution_count": 12
        }
      ]
    }
  ]
}